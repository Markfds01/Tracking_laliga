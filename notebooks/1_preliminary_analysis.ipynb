{
 "cells": [
  {
   "cell_type": "code",
   "execution_count": 2,
   "id": "657efb10",
   "metadata": {},
   "outputs": [],
   "source": [
    "import os\n",
    "\n",
    "os.chdir('../')"
   ]
  },
  {
   "cell_type": "code",
   "execution_count": 3,
   "id": "16d20581",
   "metadata": {},
   "outputs": [],
   "source": [
    "import pandas as pd\n",
    "from pathlib import Path\n",
    "import src.data.utils as utils\n",
    "import src.pitch_control.velocities as velocities\n",
    "import src.visualization.field as viz\n",
    "\n",
    "data_path = Path('data/processed/')"
   ]
  },
  {
   "cell_type": "markdown",
   "id": "178b3aaf",
   "metadata": {},
   "source": [
    "# Basic test\n",
    "\n",
    "Check that the code works correctly by plotting a single frame of the field."
   ]
  },
  {
   "cell_type": "code",
   "execution_count": 4,
   "id": "d9ee59d1",
   "metadata": {},
   "outputs": [],
   "source": [
    "df = pd.read_csv(data_path / 'Aclean1_1074815.csv')\n",
    "df = utils.standardize_units(df)\n",
    "df = velocities.calculate_player_velocities(df)\n"
   ]
  },
  {
   "cell_type": "code",
   "execution_count": 5,
   "id": "3ce135eb",
   "metadata": {},
   "outputs": [
    {
     "name": "stdout",
     "output_type": "stream",
     "text": [
      "0    NaN\n",
      "Name: away_3_vx, dtype: object\n",
      "0    NaN\n",
      "Name: away_3_vx, dtype: object\n"
     ]
    },
    {
     "data": {
      "application/vnd.microsoft.datawrangler.viewer.v0+json": {
       "columns": [
        {
         "name": "index",
         "rawType": "int64",
         "type": "integer"
        },
        {
         "name": "frame",
         "rawType": "int64",
         "type": "integer"
        },
        {
         "name": "away_22_x",
         "rawType": "float64",
         "type": "float"
        },
        {
         "name": "away_22_y",
         "rawType": "float64",
         "type": "float"
        },
        {
         "name": "home_19_x",
         "rawType": "float64",
         "type": "float"
        },
        {
         "name": "home_19_y",
         "rawType": "float64",
         "type": "float"
        },
        {
         "name": "home_4_x",
         "rawType": "float64",
         "type": "float"
        },
        {
         "name": "home_4_y",
         "rawType": "float64",
         "type": "float"
        },
        {
         "name": "home_6_x",
         "rawType": "float64",
         "type": "float"
        },
        {
         "name": "home_6_y",
         "rawType": "float64",
         "type": "float"
        },
        {
         "name": "referee_1_x",
         "rawType": "float64",
         "type": "float"
        },
        {
         "name": "referee_1_y",
         "rawType": "float64",
         "type": "float"
        },
        {
         "name": "away_17_x",
         "rawType": "float64",
         "type": "float"
        },
        {
         "name": "away_17_y",
         "rawType": "float64",
         "type": "float"
        },
        {
         "name": "home_1_x",
         "rawType": "float64",
         "type": "float"
        },
        {
         "name": "home_1_y",
         "rawType": "float64",
         "type": "float"
        },
        {
         "name": "home_22_x",
         "rawType": "float64",
         "type": "float"
        },
        {
         "name": "home_22_y",
         "rawType": "float64",
         "type": "float"
        },
        {
         "name": "away_15_x",
         "rawType": "float64",
         "type": "float"
        },
        {
         "name": "away_15_y",
         "rawType": "float64",
         "type": "float"
        },
        {
         "name": "referee_0_x",
         "rawType": "float64",
         "type": "float"
        },
        {
         "name": "referee_0_y",
         "rawType": "float64",
         "type": "float"
        },
        {
         "name": "home_8_x",
         "rawType": "float64",
         "type": "float"
        },
        {
         "name": "home_8_y",
         "rawType": "float64",
         "type": "float"
        },
        {
         "name": "away_7_x",
         "rawType": "float64",
         "type": "float"
        },
        {
         "name": "away_7_y",
         "rawType": "float64",
         "type": "float"
        },
        {
         "name": "away_21_x",
         "rawType": "float64",
         "type": "float"
        },
        {
         "name": "away_21_y",
         "rawType": "float64",
         "type": "float"
        },
        {
         "name": "away_14_x",
         "rawType": "float64",
         "type": "float"
        },
        {
         "name": "away_14_y",
         "rawType": "float64",
         "type": "float"
        },
        {
         "name": "away_10_x",
         "rawType": "float64",
         "type": "float"
        },
        {
         "name": "away_10_y",
         "rawType": "float64",
         "type": "float"
        },
        {
         "name": "home_9_x",
         "rawType": "float64",
         "type": "float"
        },
        {
         "name": "home_9_y",
         "rawType": "float64",
         "type": "float"
        },
        {
         "name": "home_3_x",
         "rawType": "float64",
         "type": "float"
        },
        {
         "name": "home_3_y",
         "rawType": "float64",
         "type": "float"
        },
        {
         "name": "away_3_x",
         "rawType": "float64",
         "type": "float"
        },
        {
         "name": "away_3_y",
         "rawType": "float64",
         "type": "float"
        },
        {
         "name": "referee_2_x",
         "rawType": "float64",
         "type": "float"
        },
        {
         "name": "referee_2_y",
         "rawType": "float64",
         "type": "float"
        },
        {
         "name": "home_11_x",
         "rawType": "float64",
         "type": "float"
        },
        {
         "name": "home_11_y",
         "rawType": "float64",
         "type": "float"
        },
        {
         "name": "away_20_x",
         "rawType": "float64",
         "type": "float"
        },
        {
         "name": "away_20_y",
         "rawType": "float64",
         "type": "float"
        },
        {
         "name": "home_21_x",
         "rawType": "float64",
         "type": "float"
        },
        {
         "name": "home_21_y",
         "rawType": "float64",
         "type": "float"
        },
        {
         "name": "home_18_x",
         "rawType": "float64",
         "type": "float"
        },
        {
         "name": "home_18_y",
         "rawType": "float64",
         "type": "float"
        },
        {
         "name": "away_24_x",
         "rawType": "float64",
         "type": "float"
        },
        {
         "name": "away_24_y",
         "rawType": "float64",
         "type": "float"
        },
        {
         "name": "away_13_x",
         "rawType": "float64",
         "type": "float"
        },
        {
         "name": "away_13_y",
         "rawType": "float64",
         "type": "float"
        },
        {
         "name": "ball_status",
         "rawType": "int64",
         "type": "integer"
        },
        {
         "name": "ball_owner",
         "rawType": "object",
         "type": "string"
        },
        {
         "name": "ball_speed",
         "rawType": "float64",
         "type": "float"
        },
        {
         "name": "ball_z",
         "rawType": "int64",
         "type": "integer"
        },
        {
         "name": "ball_y",
         "rawType": "float64",
         "type": "float"
        },
        {
         "name": "ball_x",
         "rawType": "float64",
         "type": "float"
        },
        {
         "name": "time",
         "rawType": "float64",
         "type": "float"
        },
        {
         "name": "away_22_vx",
         "rawType": "float64",
         "type": "float"
        },
        {
         "name": "away_22_vy",
         "rawType": "float64",
         "type": "float"
        },
        {
         "name": "away_22_total_v",
         "rawType": "float64",
         "type": "float"
        },
        {
         "name": "home_19_vx",
         "rawType": "float64",
         "type": "float"
        },
        {
         "name": "home_19_vy",
         "rawType": "float64",
         "type": "float"
        },
        {
         "name": "home_19_total_v",
         "rawType": "float64",
         "type": "float"
        },
        {
         "name": "home_4_vx",
         "rawType": "float64",
         "type": "float"
        },
        {
         "name": "home_4_vy",
         "rawType": "float64",
         "type": "float"
        },
        {
         "name": "home_4_total_v",
         "rawType": "float64",
         "type": "float"
        },
        {
         "name": "home_6_vx",
         "rawType": "float64",
         "type": "float"
        },
        {
         "name": "home_6_vy",
         "rawType": "float64",
         "type": "float"
        },
        {
         "name": "home_6_total_v",
         "rawType": "float64",
         "type": "float"
        },
        {
         "name": "away_17_vx",
         "rawType": "float64",
         "type": "float"
        },
        {
         "name": "away_17_vy",
         "rawType": "float64",
         "type": "float"
        },
        {
         "name": "away_17_total_v",
         "rawType": "float64",
         "type": "float"
        },
        {
         "name": "home_1_vx",
         "rawType": "float64",
         "type": "float"
        },
        {
         "name": "home_1_vy",
         "rawType": "float64",
         "type": "float"
        },
        {
         "name": "home_1_total_v",
         "rawType": "float64",
         "type": "float"
        },
        {
         "name": "home_22_vx",
         "rawType": "float64",
         "type": "float"
        },
        {
         "name": "home_22_vy",
         "rawType": "float64",
         "type": "float"
        },
        {
         "name": "home_22_total_v",
         "rawType": "float64",
         "type": "float"
        },
        {
         "name": "away_15_vx",
         "rawType": "float64",
         "type": "float"
        },
        {
         "name": "away_15_vy",
         "rawType": "float64",
         "type": "float"
        },
        {
         "name": "away_15_total_v",
         "rawType": "float64",
         "type": "float"
        },
        {
         "name": "home_8_vx",
         "rawType": "float64",
         "type": "float"
        },
        {
         "name": "home_8_vy",
         "rawType": "float64",
         "type": "float"
        },
        {
         "name": "home_8_total_v",
         "rawType": "float64",
         "type": "float"
        },
        {
         "name": "away_7_vx",
         "rawType": "float64",
         "type": "float"
        },
        {
         "name": "away_7_vy",
         "rawType": "float64",
         "type": "float"
        },
        {
         "name": "away_7_total_v",
         "rawType": "float64",
         "type": "float"
        },
        {
         "name": "away_21_vx",
         "rawType": "float64",
         "type": "float"
        },
        {
         "name": "away_21_vy",
         "rawType": "float64",
         "type": "float"
        },
        {
         "name": "away_21_total_v",
         "rawType": "float64",
         "type": "float"
        },
        {
         "name": "away_14_vx",
         "rawType": "float64",
         "type": "float"
        },
        {
         "name": "away_14_vy",
         "rawType": "float64",
         "type": "float"
        },
        {
         "name": "away_14_total_v",
         "rawType": "float64",
         "type": "float"
        },
        {
         "name": "away_10_vx",
         "rawType": "float64",
         "type": "float"
        },
        {
         "name": "away_10_vy",
         "rawType": "float64",
         "type": "float"
        },
        {
         "name": "away_10_total_v",
         "rawType": "float64",
         "type": "float"
        },
        {
         "name": "home_9_vx",
         "rawType": "float64",
         "type": "float"
        },
        {
         "name": "home_9_vy",
         "rawType": "float64",
         "type": "float"
        },
        {
         "name": "home_9_total_v",
         "rawType": "float64",
         "type": "float"
        },
        {
         "name": "home_3_vx",
         "rawType": "float64",
         "type": "float"
        },
        {
         "name": "home_3_vy",
         "rawType": "float64",
         "type": "float"
        },
        {
         "name": "home_3_total_v",
         "rawType": "float64",
         "type": "float"
        },
        {
         "name": "away_3_vx",
         "rawType": "float64",
         "type": "float"
        },
        {
         "name": "away_3_vy",
         "rawType": "float64",
         "type": "float"
        },
        {
         "name": "away_3_total_v",
         "rawType": "float64",
         "type": "float"
        },
        {
         "name": "home_11_vx",
         "rawType": "float64",
         "type": "float"
        },
        {
         "name": "home_11_vy",
         "rawType": "float64",
         "type": "float"
        },
        {
         "name": "home_11_total_v",
         "rawType": "float64",
         "type": "float"
        },
        {
         "name": "away_20_vx",
         "rawType": "float64",
         "type": "float"
        },
        {
         "name": "away_20_vy",
         "rawType": "float64",
         "type": "float"
        },
        {
         "name": "away_20_total_v",
         "rawType": "float64",
         "type": "float"
        },
        {
         "name": "home_21_vx",
         "rawType": "float64",
         "type": "float"
        },
        {
         "name": "home_21_vy",
         "rawType": "float64",
         "type": "float"
        },
        {
         "name": "home_21_total_v",
         "rawType": "float64",
         "type": "float"
        },
        {
         "name": "home_18_vx",
         "rawType": "float64",
         "type": "float"
        },
        {
         "name": "home_18_vy",
         "rawType": "float64",
         "type": "float"
        },
        {
         "name": "home_18_total_v",
         "rawType": "float64",
         "type": "float"
        },
        {
         "name": "away_24_vx",
         "rawType": "float64",
         "type": "float"
        },
        {
         "name": "away_24_vy",
         "rawType": "float64",
         "type": "float"
        },
        {
         "name": "away_24_total_v",
         "rawType": "float64",
         "type": "float"
        },
        {
         "name": "away_13_vx",
         "rawType": "float64",
         "type": "float"
        },
        {
         "name": "away_13_vy",
         "rawType": "float64",
         "type": "float"
        },
        {
         "name": "away_13_total_v",
         "rawType": "float64",
         "type": "float"
        }
       ],
       "conversionMethod": "pd.DataFrame",
       "ref": "50fd6ce4-7a1a-4d88-9610-af6eb2d62459",
       "rows": [
        [
         "0",
         "1532552",
         "-10.0",
         "10.5",
         "6.52",
         "8.91",
         "16.53",
         "3.61",
         "18.31",
         "-8.62",
         "20.0",
         "-34.8",
         "-11.44",
         "-1.72",
         "46.39",
         "-0.08",
         "7.15",
         "-6.77",
         "-14.54",
         "11.54",
         "-4.2",
         "9.34",
         "11.1",
         "-0.12",
         "-24.0",
         "-1.72",
         "-26.5",
         "3.91",
         "-18.29",
         "-9.2",
         "-26.0",
         "10.5",
         "-2.01",
         "-7.48",
         "16.61",
         "-17.57",
         "-18.29",
         "9.18",
         "-17.27",
         "34.19",
         "7.46",
         "-19.07",
         "-22.54",
         "11.54",
         "16.45",
         "16.32",
         "7.78",
         "19.09",
         "-10.08",
         "3.91",
         "-45.11",
         "0.14",
         "1",
         "away",
         "2.0",
         "0",
         "-19.07",
         "7.46",
         "0.0",
         null,
         null,
         null,
         null,
         null,
         null,
         null,
         null,
         null,
         null,
         null,
         null,
         null,
         null,
         null,
         null,
         null,
         null,
         null,
         null,
         null,
         null,
         null,
         null,
         null,
         null,
         null,
         null,
         null,
         null,
         null,
         null,
         null,
         null,
         null,
         null,
         null,
         null,
         null,
         null,
         null,
         null,
         null,
         null,
         null,
         null,
         null,
         null,
         null,
         null,
         null,
         null,
         null,
         null,
         null,
         null,
         null,
         null,
         null,
         null,
         null,
         null,
         null,
         null,
         null,
         null
        ],
        [
         "1",
         "1532553",
         "0.83",
         "12.99",
         "6.5",
         "8.96",
         "16.52",
         "3.6",
         "18.32",
         "-8.64",
         "19.93",
         "-34.8",
         "-10.45",
         "-1.71",
         "46.36",
         "-0.06",
         "7.15",
         "-6.77",
         "-16.52",
         "11.55",
         "-4.07",
         "9.34",
         "11.04",
         "-0.13",
         "0.8",
         "-26.88",
         "0.66",
         "-18.69",
         "-18.29",
         "-9.17",
         "1.41",
         "-0.4",
         "-2.13",
         "-7.35",
         "16.64",
         "-17.61",
         "-0.06",
         "33.19",
         "-17.26",
         "34.19",
         "7.48",
         "-19.07",
         "-17.77",
         "-11.85",
         "16.46",
         "16.36",
         "7.8",
         "19.13",
         "-8.05",
         "3.85",
         "-45.05",
         "0.14",
         "1",
         "away",
         "2.0",
         "0",
         "-19.07",
         "7.48",
         "0.04",
         null,
         null,
         null,
         "-0.49999999999998934",
         "1.2500000000000178",
         "1.3462912017836386",
         "-0.2500000000000391",
         "-0.24999999999999467",
         "0.3535533905932976",
         "0.2500000000000391",
         "-0.5000000000000338",
         "0.5590169943749951",
         null,
         null,
         null,
         "-0.7500000000000284",
         "0.5000000000000001",
         "0.901387818866021",
         "0.0",
         "0.0",
         "0.0",
         null,
         null,
         null,
         "-1.5000000000000124",
         "-0.2500000000000002",
         "1.5206906325745673",
         null,
         null,
         null,
         null,
         null,
         null,
         "0.0",
         "0.749999999999984",
         "0.749999999999984",
         null,
         null,
         null,
         "-3.0000000000000027",
         "3.2500000000000195",
         "4.422951503238549",
         "0.7500000000000284",
         "-0.9999999999999787",
         "1.25",
         null,
         null,
         null,
         "0.5000000000000115",
         "0.0",
         "0.5000000000000115",
         null,
         null,
         null,
         "0.2500000000000391",
         "0.9999999999999787",
         "1.030776406404404",
         "0.49999999999998934",
         "0.9999999999999787",
         "1.118033988749871",
         null,
         null,
         null,
         "1.5000000000000568",
         "0.0",
         "1.5000000000000568"
        ],
        [
         "2",
         "1532554",
         "0.96",
         "13.05",
         "6.48",
         "9.01",
         "16.49",
         "3.59",
         "18.34",
         "-8.69",
         "19.88",
         "-34.8",
         "-10.46",
         "-1.68",
         "46.32",
         "-0.04",
         "7.13",
         "-6.77",
         "-16.49",
         "11.57",
         "-3.95",
         "9.35",
         "10.99",
         "-0.15",
         "0.93",
         "-26.91",
         "0.81",
         "-18.67",
         "-18.29",
         "-9.13",
         "1.56",
         "-0.44",
         "-2.25",
         "-7.22",
         "16.66",
         "-17.66",
         "0.0",
         "33.19",
         "-17.26",
         "34.19",
         "7.51",
         "-19.07",
         "-17.81",
         "-11.88",
         "16.47",
         "16.39",
         "7.82",
         "19.16",
         "-8.02",
         "3.8",
         "-45.01",
         "0.14",
         "1",
         "away",
         "2.0",
         "0",
         "-19.07",
         "7.51",
         "0.08",
         "3.25",
         "1.5000000000000124",
         "3.5794552658190937",
         "-0.49999999999998934",
         "1.2499999999999734",
         "1.3462912017835973",
         "-0.7500000000000284",
         "-0.2500000000000058",
         "0.7905694150421236",
         "0.49999999999998934",
         "-1.2499999999999734",
         "1.3462912017835973",
         "-0.2500000000000391",
         "0.7500000000000007",
         "0.7905694150421079",
         "-0.9999999999999787",
         "0.4999999999999999",
         "1.1180339887498758",
         "-0.5000000000000115",
         "0.0",
         "0.5000000000000115",
         "0.7500000000000284",
         "0.49999999999998934",
         "0.901387818866015",
         "-1.2499999999999734",
         "-0.4999999999999997",
         "1.3462912017836013",
         "3.25",
         "-0.7500000000000284",
         "3.3354160160315898",
         "3.7500000000000004",
         "0.49999999999998934",
         "3.7831864876053882",
         "0.0",
         "0.9999999999999787",
         "0.9999999999999787",
         "3.750000000000003",
         "-0.9999999999999994",
         "3.8810436740650087",
         "-3.0000000000000027",
         "3.2499999999999973",
         "4.422951503238533",
         "0.49999999999998934",
         "-1.2500000000000178",
         "1.3462912017836386",
         "1.5",
         "0.0",
         "1.5",
         "0.749999999999984",
         "0.0",
         "0.749999999999984",
         "-0.9999999999999787",
         "-0.7500000000000284",
         "1.25",
         "0.24999999999995026",
         "0.7500000000000284",
         "0.7905694150421061",
         "0.5000000000000115",
         "0.7500000000000284",
         "0.9013878188660274",
         "0.7500000000000284",
         "-1.2500000000000067",
         "1.4577379737113456",
         "0.9999999999999787",
         "0.0",
         "0.9999999999999787"
        ],
        [
         "3",
         "1532555",
         "1.06",
         "13.1",
         "6.47",
         "9.05",
         "16.47",
         "3.57",
         "18.35",
         "-8.73",
         "19.82",
         "-34.79",
         "-10.46",
         "-1.66",
         "46.29",
         "-0.04",
         "7.13",
         "-6.77",
         "-16.47",
         "11.58",
         "-3.82",
         "9.35",
         "10.93",
         "-0.16",
         "1.07",
         "-26.94",
         "0.97",
         "-18.65",
         "-18.29",
         "-9.09",
         "1.69",
         "-0.48",
         "-2.37",
         "-7.08",
         "16.7",
         "-17.71",
         "0.04",
         "33.18",
         "-17.26",
         "34.19",
         "7.56",
         "-19.05",
         "-17.84",
         "-11.9",
         "16.49",
         "16.43",
         "7.86",
         "19.19",
         "-7.99",
         "3.74",
         "-44.97",
         "0.14",
         "1",
         "away",
         "1.41",
         "0",
         "-19.05",
         "7.56",
         "0.12",
         "2.5000000000000027",
         "1.2499999999999736",
         "2.795084971874728",
         "-0.25000000000001693",
         "1.0000000000000233",
         "1.0307764064044418",
         "-0.4999999999999894",
         "-0.5000000000000006",
         "0.7071067811865405",
         "0.25000000000003914",
         "-1.0000000000000233",
         "1.0307764064044473",
         "0.0",
         "0.5000000000000006",
         "0.5000000000000006",
         "-0.7500000000000285",
         "0.0",
         "0.7500000000000285",
         "0.0",
         "0.0",
         "0.0",
         "0.4999999999999894",
         "0.2499999999999947",
         "0.5590169943749356",
         "-1.5000000000000127",
         "-0.2500000000000003",
         "1.5206906325745675",
         "3.500000000000001",
         "-0.7500000000000285",
         "3.5794552658190955",
         "3.9999999999999987",
         "0.5000000000000783",
         "4.0311288741492834",
         "0.0",
         "1.0000000000000233",
         "1.0000000000000233",
         "3.249999999999998",
         "-0.9999999999999997",
         "3.4003676271838588",
         "-3.000000000000003",
         "3.4999999999999925",
         "4.60977222864644",
         "0.9999999999999788",
         "-1.250000000000018",
         "1.600781059358213",
         "1.0000000000000002",
         "-0.2499999999999503",
         "1.0307764064044034",
         "1.2499999999999958",
         "0.4999999999999894",
         "1.3462912017836182",
         "-0.7500000000000285",
         "-0.4999999999999894",
         "0.9013878188660152",
         "0.4999999999999894",
         "0.9999999999999788",
         "1.1180339887498711",
         "1.000000000000001",
         "0.7500000000000285",
         "1.250000000000018",
         "0.7499999999999841",
         "-1.4999999999999905",
         "1.6770509831248266",
         "0.9999999999999788",
         "0.0",
         "0.9999999999999788"
        ],
        [
         "4",
         "1532556",
         "1.16",
         "13.16",
         "6.46",
         "9.08",
         "16.46",
         "3.56",
         "18.36",
         "-8.77",
         "19.76",
         "-34.78",
         "-10.46",
         "-1.64",
         "46.25",
         "-0.04",
         "7.12",
         "-6.77",
         "-16.46",
         "11.6",
         "-3.7",
         "9.37",
         "10.87",
         "-0.18",
         "1.2",
         "-26.96",
         "1.11",
         "-18.63",
         "-18.26",
         "-9.06",
         "1.83",
         "-0.51",
         "-2.48",
         "-6.95",
         "16.74",
         "-17.75",
         "0.07",
         "33.17",
         "-17.26",
         "34.19",
         "7.62",
         "-19.03",
         "-17.89",
         "-11.92",
         "16.52",
         "16.46",
         "7.87",
         "19.25",
         "-7.96",
         "3.68",
         "-44.92",
         "0.14",
         "1",
         "away",
         "2.24",
         "0",
         "-19.03",
         "7.62",
         "0.16",
         "2.499999999999996",
         "1.5000000000000122",
         "2.9154759474226535",
         "-0.24999999999999462",
         "0.7499999999999839",
         "0.7905694150420779",
         "-0.2499999999999502",
         "-0.24999999999999462",
         "0.35355339059323476",
         "0.2499999999999502",
         "-0.9999999999999785",
         "1.0307764064043823",
         "0.0",
         "0.5000000000000003",
         "0.5000000000000003",
         "-0.9999999999999785",
         "0.0",
         "0.9999999999999785",
         "-0.24999999999999462",
         "0.0",
         "0.24999999999999462",
         "0.2499999999999502",
         "0.49999999999998923",
         "0.5590169943749156",
         "-1.5000000000000122",
         "-0.49999999999999967",
         "1.581138830084201",
         "3.249999999999997",
         "-0.49999999999998923",
         "3.288236609491472",
         "3.500000000000002",
         "0.49999999999998923",
         "3.535533905932738",
         "0.7499999999999395",
         "0.7499999999999839",
         "1.0606601717797672",
         "3.500000000000002",
         "-0.7500000000000006",
         "3.5794552658190906",
         "-2.7499999999999964",
         "3.249999999999997",
         "4.257346591481595",
         "0.9999999999999785",
         "-0.9999999999999785",
         "1.4142135623730645",
         "0.75",
         "-0.2499999999999502",
         "0.7905694150420791",
         "1.5000000000000122",
         "0.49999999999998923",
         "1.581138830084198",
         "-1.2500000000000175",
         "-0.49999999999998923",
         "1.3462912017836384",
         "0.7500000000000283",
         "0.7500000000000283",
         "1.0606601717798614",
         "0.24999999999999462",
         "1.4999999999999678",
         "1.5206906325745224",
         "0.7500000000000061",
         "-1.500000000000001",
         "1.6770509831248461",
         "1.2499999999999287",
         "0.0",
         "1.2499999999999287"
        ]
       ],
       "shape": {
        "columns": 124,
        "rows": 5
       }
      },
      "text/html": [
       "<div>\n",
       "<style scoped>\n",
       "    .dataframe tbody tr th:only-of-type {\n",
       "        vertical-align: middle;\n",
       "    }\n",
       "\n",
       "    .dataframe tbody tr th {\n",
       "        vertical-align: top;\n",
       "    }\n",
       "\n",
       "    .dataframe thead th {\n",
       "        text-align: right;\n",
       "    }\n",
       "</style>\n",
       "<table border=\"1\" class=\"dataframe\">\n",
       "  <thead>\n",
       "    <tr style=\"text-align: right;\">\n",
       "      <th></th>\n",
       "      <th>frame</th>\n",
       "      <th>away_22_x</th>\n",
       "      <th>away_22_y</th>\n",
       "      <th>home_19_x</th>\n",
       "      <th>home_19_y</th>\n",
       "      <th>home_4_x</th>\n",
       "      <th>home_4_y</th>\n",
       "      <th>home_6_x</th>\n",
       "      <th>home_6_y</th>\n",
       "      <th>referee_1_x</th>\n",
       "      <th>...</th>\n",
       "      <th>home_21_total_v</th>\n",
       "      <th>home_18_vx</th>\n",
       "      <th>home_18_vy</th>\n",
       "      <th>home_18_total_v</th>\n",
       "      <th>away_24_vx</th>\n",
       "      <th>away_24_vy</th>\n",
       "      <th>away_24_total_v</th>\n",
       "      <th>away_13_vx</th>\n",
       "      <th>away_13_vy</th>\n",
       "      <th>away_13_total_v</th>\n",
       "    </tr>\n",
       "  </thead>\n",
       "  <tbody>\n",
       "    <tr>\n",
       "      <th>0</th>\n",
       "      <td>1532552</td>\n",
       "      <td>-10.00</td>\n",
       "      <td>10.50</td>\n",
       "      <td>6.52</td>\n",
       "      <td>8.91</td>\n",
       "      <td>16.53</td>\n",
       "      <td>3.61</td>\n",
       "      <td>18.31</td>\n",
       "      <td>-8.62</td>\n",
       "      <td>20.00</td>\n",
       "      <td>...</td>\n",
       "      <td>NaN</td>\n",
       "      <td>NaN</td>\n",
       "      <td>NaN</td>\n",
       "      <td>NaN</td>\n",
       "      <td>NaN</td>\n",
       "      <td>NaN</td>\n",
       "      <td>NaN</td>\n",
       "      <td>NaN</td>\n",
       "      <td>NaN</td>\n",
       "      <td>NaN</td>\n",
       "    </tr>\n",
       "    <tr>\n",
       "      <th>1</th>\n",
       "      <td>1532553</td>\n",
       "      <td>0.83</td>\n",
       "      <td>12.99</td>\n",
       "      <td>6.50</td>\n",
       "      <td>8.96</td>\n",
       "      <td>16.52</td>\n",
       "      <td>3.60</td>\n",
       "      <td>18.32</td>\n",
       "      <td>-8.64</td>\n",
       "      <td>19.93</td>\n",
       "      <td>...</td>\n",
       "      <td>1.030776</td>\n",
       "      <td>0.50</td>\n",
       "      <td>1.00</td>\n",
       "      <td>1.118034</td>\n",
       "      <td>NaN</td>\n",
       "      <td>NaN</td>\n",
       "      <td>NaN</td>\n",
       "      <td>1.50</td>\n",
       "      <td>0.0</td>\n",
       "      <td>1.50</td>\n",
       "    </tr>\n",
       "    <tr>\n",
       "      <th>2</th>\n",
       "      <td>1532554</td>\n",
       "      <td>0.96</td>\n",
       "      <td>13.05</td>\n",
       "      <td>6.48</td>\n",
       "      <td>9.01</td>\n",
       "      <td>16.49</td>\n",
       "      <td>3.59</td>\n",
       "      <td>18.34</td>\n",
       "      <td>-8.69</td>\n",
       "      <td>19.88</td>\n",
       "      <td>...</td>\n",
       "      <td>0.790569</td>\n",
       "      <td>0.50</td>\n",
       "      <td>0.75</td>\n",
       "      <td>0.901388</td>\n",
       "      <td>0.75</td>\n",
       "      <td>-1.25</td>\n",
       "      <td>1.457738</td>\n",
       "      <td>1.00</td>\n",
       "      <td>0.0</td>\n",
       "      <td>1.00</td>\n",
       "    </tr>\n",
       "    <tr>\n",
       "      <th>3</th>\n",
       "      <td>1532555</td>\n",
       "      <td>1.06</td>\n",
       "      <td>13.10</td>\n",
       "      <td>6.47</td>\n",
       "      <td>9.05</td>\n",
       "      <td>16.47</td>\n",
       "      <td>3.57</td>\n",
       "      <td>18.35</td>\n",
       "      <td>-8.73</td>\n",
       "      <td>19.82</td>\n",
       "      <td>...</td>\n",
       "      <td>1.118034</td>\n",
       "      <td>1.00</td>\n",
       "      <td>0.75</td>\n",
       "      <td>1.250000</td>\n",
       "      <td>0.75</td>\n",
       "      <td>-1.50</td>\n",
       "      <td>1.677051</td>\n",
       "      <td>1.00</td>\n",
       "      <td>0.0</td>\n",
       "      <td>1.00</td>\n",
       "    </tr>\n",
       "    <tr>\n",
       "      <th>4</th>\n",
       "      <td>1532556</td>\n",
       "      <td>1.16</td>\n",
       "      <td>13.16</td>\n",
       "      <td>6.46</td>\n",
       "      <td>9.08</td>\n",
       "      <td>16.46</td>\n",
       "      <td>3.56</td>\n",
       "      <td>18.36</td>\n",
       "      <td>-8.77</td>\n",
       "      <td>19.76</td>\n",
       "      <td>...</td>\n",
       "      <td>1.060660</td>\n",
       "      <td>0.25</td>\n",
       "      <td>1.50</td>\n",
       "      <td>1.520691</td>\n",
       "      <td>0.75</td>\n",
       "      <td>-1.50</td>\n",
       "      <td>1.677051</td>\n",
       "      <td>1.25</td>\n",
       "      <td>0.0</td>\n",
       "      <td>1.25</td>\n",
       "    </tr>\n",
       "  </tbody>\n",
       "</table>\n",
       "<p>5 rows × 124 columns</p>\n",
       "</div>"
      ],
      "text/plain": [
       "     frame  away_22_x  away_22_y  home_19_x  home_19_y  home_4_x  home_4_y  \\\n",
       "0  1532552     -10.00      10.50       6.52       8.91     16.53      3.61   \n",
       "1  1532553       0.83      12.99       6.50       8.96     16.52      3.60   \n",
       "2  1532554       0.96      13.05       6.48       9.01     16.49      3.59   \n",
       "3  1532555       1.06      13.10       6.47       9.05     16.47      3.57   \n",
       "4  1532556       1.16      13.16       6.46       9.08     16.46      3.56   \n",
       "\n",
       "   home_6_x  home_6_y  referee_1_x  ...  home_21_total_v  home_18_vx  \\\n",
       "0     18.31     -8.62        20.00  ...              NaN         NaN   \n",
       "1     18.32     -8.64        19.93  ...         1.030776        0.50   \n",
       "2     18.34     -8.69        19.88  ...         0.790569        0.50   \n",
       "3     18.35     -8.73        19.82  ...         1.118034        1.00   \n",
       "4     18.36     -8.77        19.76  ...         1.060660        0.25   \n",
       "\n",
       "   home_18_vy  home_18_total_v  away_24_vx  away_24_vy  away_24_total_v  \\\n",
       "0         NaN              NaN         NaN         NaN              NaN   \n",
       "1        1.00         1.118034         NaN         NaN              NaN   \n",
       "2        0.75         0.901388        0.75       -1.25         1.457738   \n",
       "3        0.75         1.250000        0.75       -1.50         1.677051   \n",
       "4        1.50         1.520691        0.75       -1.50         1.677051   \n",
       "\n",
       "   away_13_vx  away_13_vy  away_13_total_v  \n",
       "0         NaN         NaN              NaN  \n",
       "1        1.50         0.0             1.50  \n",
       "2        1.00         0.0             1.00  \n",
       "3        1.00         0.0             1.00  \n",
       "4        1.25         0.0             1.25  \n",
       "\n",
       "[5 rows x 124 columns]"
      ]
     },
     "execution_count": 5,
     "metadata": {},
     "output_type": "execute_result"
    },
    {
     "data": {
      "image/png": "[encoded data removed]",
      "text/plain": [
       "<Figure size 1200x800 with 1 Axes>"
      ]
     },
     "metadata": {},
     "output_type": "display_data"
    }
   ],
   "source": [
    "viz.plot_frame(df, index=0, include_player_velocities=True,\n",
    "              annotate=True)\n",
    "\n",
    "df\n"
   ]
  }
 ],
 "metadata": {
  "kernelspec": {
   "display_name": ".venv",
   "language": "python",
   "name": "python3"
  },
  "language_info": {
   "codemirror_mode": {
    "name": "ipython",
    "version": 3
   },
   "file_extension": ".py",
   "mimetype": "text/x-python",
   "name": "python",
   "nbconvert_exporter": "python",
   "pygments_lexer": "ipython3",
   "version": "3.11.11"
  }
 },
 "nbformat": 4,
 "nbformat_minor": 5
}
